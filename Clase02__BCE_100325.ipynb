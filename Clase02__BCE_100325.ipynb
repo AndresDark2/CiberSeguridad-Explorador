{
  "nbformat": 4,
  "nbformat_minor": 0,
  "metadata": {
    "colab": {
      "provenance": [],
      "authorship_tag": "ABX9TyPHPFS//EyJkchIi4Or8ywj",
      "include_colab_link": true
    },
    "kernelspec": {
      "name": "python3",
      "display_name": "Python 3"
    },
    "language_info": {
      "name": "python"
    }
  },
  "cells": [
    {
      "cell_type": "markdown",
      "metadata": {
        "id": "view-in-github",
        "colab_type": "text"
      },
      "source": [
        "<a href=\"https://colab.research.google.com/github/AndresDark2/CiberSeguridad-Explorador/blob/main/Clase02__BCE_100325.ipynb\" target=\"_parent\"><img src=\"https://colab.research.google.com/assets/colab-badge.svg\" alt=\"Open In Colab\"/></a>"
      ]
    },
    {
      "cell_type": "markdown",
      "source": [
        "# **Talento Tech**\n",
        "\n",
        "**Campista**: Brayan Andres Mutis Mosquera\n",
        "\n",
        "**Bootcamp Ciberseguridad**\n",
        "\n",
        "Nivel Explorador\n",
        "\n",
        "\n",
        "---\n",
        "\n"
      ],
      "metadata": {
        "id": "xAlsG8t_jmjh"
      }
    },
    {
      "cell_type": "markdown",
      "source": [
        "**Validar ip de windows**\n",
        "\n",
        "Presiona windows + R, colocar cmd y despues usar el comando **ipconfig**"
      ],
      "metadata": {
        "id": "S_zkwHFYpaqR"
      }
    }
  ]
}